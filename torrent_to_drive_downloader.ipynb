{
  "nbformat": 4,
  "nbformat_minor": 0,
  "metadata": {
    "colab": {
      "name": "torrent_to_drive_downloader.ipynb",
      "provenance": [],
      "collapsed_sections": []
    },
    "kernelspec": {
      "name": "python3",
      "display_name": "Python 3"
    },
    "accelerator": "GPU"
  },
  "cells": [
    {
      "cell_type": "markdown",
      "metadata": {
        "id": "5-nEl7bmbKhM",
        "colab_type": "text"
      },
      "source": [
        "# Torrent to Google Drive Downloader Using Python3-libtorrent liberary and Google Drive File Stream\n"
      ]
    },
    {
      "cell_type": "markdown",
      "metadata": {
        "id": "bSCady43z8ym",
        "colab_type": "text"
      },
      "source": [
        "**Important Note:** To get more disk space:\n",
        "Go to **Runtime** -> **Change runtime type** and give GPU as the Hardware Accelerator.  You will get around 350-400GB of Torrent Download Capability."
      ]
    },
    {
      "cell_type": "markdown",
      "metadata": {
        "id": "owbPKrx_bVIt",
        "colab_type": "text"
      },
      "source": [
        "### Mount Google Drive\n",
        "To stream files mounting **Google Drive** is needed.The Google Drive File Stream is maintained by Google and The Data Privacy is intact same as in accordance with Google Privacy Policies."
      ]
    },
    {
      "cell_type": "code",
      "metadata": {
        "id": "QRzj7rLHbS_W",
        "colab_type": "code",
        "colab": {}
      },
      "source": [
        "from google.colab import drive\n",
        "drive.mount('/content/drive')"
      ],
      "execution_count": null,
      "outputs": []
    },
    {
      "cell_type": "markdown",
      "metadata": {
        "id": "Gws9m9r5b8M_",
        "colab_type": "text"
      },
      "source": [
        "### Install Dependency python3-libtorrent"
      ]
    },
    {
      "cell_type": "code",
      "metadata": {
        "id": "uzJtOLOlcJxu",
        "colab_type": "code",
        "colab": {}
      },
      "source": [
        "!apt install python3-libtorrent"
      ],
      "execution_count": null,
      "outputs": []
    },
    {
      "cell_type": "markdown",
      "metadata": {
        "id": "ASYhMgxTii_G",
        "colab_type": "text"
      },
      "source": [
        "### Add Torrent and Start Download"
      ]
    },
    {
      "cell_type": "code",
      "metadata": {
        "id": "wkMkEndgirM0",
        "colab_type": "code",
        "colab": {}
      },
      "source": [
        "import libtorrent as torrentlib\n",
        "import time\n",
        "import datetime\n",
        "\n",
        "ses = torrentlib.session()\n",
        "ses.listen_on(6881, 6891)\n",
        "params = {\n",
        "    'save_path': '/content/drive/My Drive/Torrent Download/',\n",
        "    'storage_mode': torrentlib.storage_mode_t(2),\n",
        "    'paused': False,\n",
        "    'auto_managed': True,\n",
        "    'duplicate_is_error': True}\n",
        "\n",
        "link = input(\"Enter Torrent File Link/Magnet Link:\")\n",
        "\n",
        "handle = torrentlib.add_magnet_uri(ses, link, params)\n",
        "ses.start_dht()\n",
        "\n",
        "begin = time.time()\n",
        "print(datetime.datetime.now())\n",
        "\n",
        "print ('Downloading Metadata....')\n",
        "while (not handle.has_metadata()):\n",
        "    time.sleep(1)\n",
        "print ('Metadata Downloaded, Starting Torrent Download....')\n",
        "\n",
        "print(\"Starting Torrent Download>>>>\", handle.name())\n",
        "\n",
        "while (handle.status().state != torrentlib.torrent_status.seeding):\n",
        "    s = handle.status()\n",
        "    state_str = ['queued', 'checking', 'downloading metadata', \\\n",
        "            'downloading', 'finished', 'seeding', 'allocating']\n",
        "    print ('%.2f%% complete (down: %.1f mb/s up: %.1f kb/s peers: %d) %s ' % \\\n",
        "            (s.progress * 100, s.download_rate / 1048576, s.upload_rate / 8000, \\\n",
        "            s.num_peers, state_str[s.state]))\n",
        "    time.sleep(5)\n",
        "\n",
        "end = time.time()\n",
        "print(handle.name(), \"TORRENT DOWNLOAD COMPLETED\")\n",
        "\n",
        "print(\"Elapsed Time: \",int((end-begin)//60),\"min :\", int((end-begin)%60), \"sec\")\n",
        "\n",
        "print(datetime.datetime.now())"
      ],
      "execution_count": null,
      "outputs": []
    }
  ]
}